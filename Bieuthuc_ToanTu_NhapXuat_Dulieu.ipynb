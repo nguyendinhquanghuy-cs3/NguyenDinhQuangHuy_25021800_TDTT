{
 "cells": [
  {
   "cell_type": "code",
   "execution_count": 1,
   "id": "2cc83ff6-2de4-4db7-a941-43bc5bf4aa18",
   "metadata": {},
   "outputs": [
    {
     "name": "stdout",
     "output_type": "stream",
     "text": [
      "Hello World!\n"
     ]
    }
   ],
   "source": [
    "#W2A1\n",
    "print(\"Hello World!\")"
   ]
  },
  {
   "cell_type": "code",
   "execution_count": 2,
   "id": "0d610d9a-eb86-4a99-b64a-49045f61fb6b",
   "metadata": {},
   "outputs": [
    {
     "name": "stdin",
     "output_type": "stream",
     "text": [
      " Huy\n"
     ]
    },
    {
     "name": "stdout",
     "output_type": "stream",
     "text": [
      "Hello Huy\n"
     ]
    }
   ],
   "source": [
    "#W2A2\n",
    "name = input()\n",
    "print(\"Hello\", name)"
   ]
  },
  {
   "cell_type": "code",
   "execution_count": 5,
   "id": "da8f083d-e0fd-4191-9375-536ecf7c0616",
   "metadata": {
    "scrolled": true
   },
   "outputs": [
    {
     "name": "stdin",
     "output_type": "stream",
     "text": [
      " 5\n",
      " 3\n"
     ]
    },
    {
     "name": "stdout",
     "output_type": "stream",
     "text": [
      "a + b = 8\n",
      "a - b = 2\n",
      "a * b = 15\n",
      "a // b = 1\n",
      "a % b = 2\n",
      "a / b =  1.67\n"
     ]
    }
   ],
   "source": [
    "#W2A3\n",
    "a = int(input())\n",
    "b = int(input())\n",
    "c = a/b\n",
    "print(\"a + b =\", a+b)\n",
    "print(\"a - b =\", a-b)\n",
    "print(\"a * b =\", a*b)\n",
    "print(\"a // b =\", a//b)\n",
    "print(\"a % b =\", a%b)\n",
    "print(f\"a / b = {c: .2f}\")\n"
   ]
  },
  {
   "cell_type": "code",
   "execution_count": 14,
   "id": "ae2cf6f9-61da-4929-b3c2-e04cc3aaa179",
   "metadata": {
    "scrolled": true
   },
   "outputs": [
    {
     "name": "stdin",
     "output_type": "stream",
     "text": [
      " 6 7 8 9 9 8\n"
     ]
    },
    {
     "name": "stdout",
     "output_type": "stream",
     "text": [
      " 8.1\n"
     ]
    }
   ],
   "source": [
    "#W2A4\n",
    "a1, b1, c1, a2, b2, a3 = map(float, input().split())\n",
    "TB = (a1 + b1 + c1 + (a2 + b2) * 2 + a3 * 3) / 10\n",
    "print(f\"{TB: .1f}\")\n"
   ]
  },
  {
   "cell_type": "code",
   "execution_count": 15,
   "id": "97429f29-1f6d-4326-9efa-d62f9819c4ae",
   "metadata": {},
   "outputs": [
    {
     "name": "stdin",
     "output_type": "stream",
     "text": [
      " 2 3\n"
     ]
    },
    {
     "name": "stdout",
     "output_type": "stream",
     "text": [
      "8.0\n"
     ]
    }
   ],
   "source": [
    "#W2A5\n",
    "a,b = map(float, input().split())\n",
    "print(a**b)"
   ]
  },
  {
   "cell_type": "code",
   "execution_count": 23,
   "id": "b764fe15-3787-466c-bb56-7629f7becedc",
   "metadata": {},
   "outputs": [
    {
     "name": "stdin",
     "output_type": "stream",
     "text": [
      " a\n"
     ]
    },
    {
     "name": "stdout",
     "output_type": "stream",
     "text": [
      "Mã Unicode: 97\n",
      "Kí tự hoa: A\n"
     ]
    }
   ],
   "source": [
    "#W2A6\n",
    "a = input()\n",
    "print(f\"Mã Unicode: {ord(a)}\")\n",
    "b = a.upper()\n",
    "print(\"Kí tự hoa:\", b)"
   ]
  },
  {
   "cell_type": "code",
   "execution_count": 25,
   "id": "c14fd91f-981d-4ce7-b8b6-76942ed25c8a",
   "metadata": {},
   "outputs": [
    {
     "name": "stdout",
     "output_type": "stream",
     "text": [
      "A= 512\n",
      "B= 512\n"
     ]
    }
   ],
   "source": [
    "#W2A7\n",
    "A = ((13 ** 2) * 3) + 5\n",
    "B = 13**2*3 + 5\n",
    "print(\"A=\", A)\n",
    "print(\"B=\", B)"
   ]
  },
  {
   "cell_type": "code",
   "execution_count": 28,
   "id": "626a201e-8757-4a0d-a49a-95535056c668",
   "metadata": {},
   "outputs": [
    {
     "name": "stdin",
     "output_type": "stream",
     "text": [
      " 23\n"
     ]
    },
    {
     "name": "stdout",
     "output_type": "stream",
     "text": [
      "Nhiet do theo thang Fahrenheit: 73.40\n"
     ]
    }
   ],
   "source": [
    "#W2A8\n",
    "C = float(input())\n",
    "F = 9/5*C + 32\n",
    "print(f\"Nhiet do theo thang Fahrenheit:{F: .2f}\")"
   ]
  },
  {
   "cell_type": "code",
   "execution_count": 31,
   "id": "516f057c-6fdb-449f-a78a-84931287f21c",
   "metadata": {},
   "outputs": [
    {
     "name": "stdin",
     "output_type": "stream",
     "text": [
      " 23\n"
     ]
    },
    {
     "name": "stdout",
     "output_type": "stream",
     "text": [
      "Tong so tien:  19.20 USD\n"
     ]
    }
   ],
   "source": [
    "#W2A9\n",
    "x = float(input())\n",
    "price = 10 + x*0.4\n",
    "print(f\"Tong so tien: {price: .2f} USD\")"
   ]
  },
  {
   "cell_type": "code",
   "execution_count": 35,
   "id": "116e025b-fb12-4aad-a049-fb81f0c18542",
   "metadata": {},
   "outputs": [
    {
     "name": "stdin",
     "output_type": "stream",
     "text": [
      " joe bob tyson\n"
     ]
    },
    {
     "name": "stdout",
     "output_type": "stream",
     "text": [
      "tyson bob joe\n"
     ]
    }
   ],
   "source": [
    "#W2A10\n",
    "a, b, c = input().split()\n",
    "print(c, b, a)\n"
   ]
  },
  {
   "cell_type": "code",
   "execution_count": 38,
   "id": "cfbd7f76-aebc-495c-aa8b-33b21f61c422",
   "metadata": {},
   "outputs": [
    {
     "name": "stdin",
     "output_type": "stream",
     "text": [
      " 1 30\n"
     ]
    },
    {
     "name": "stdout",
     "output_type": "stream",
     "text": [
      "5400\n"
     ]
    }
   ],
   "source": [
    "#W2A11\n",
    "a, b = map(int, input().split())\n",
    "c = a*3600 + b*60\n",
    "print(c)"
   ]
  },
  {
   "cell_type": "code",
   "execution_count": 39,
   "id": "f97f79c3-1e8f-432b-8424-7e1ee24610f5",
   "metadata": {},
   "outputs": [
    {
     "name": "stdin",
     "output_type": "stream",
     "text": [
      "Nhập độ dài cạnh n của Rubik:  2\n"
     ]
    },
    {
     "name": "stdout",
     "output_type": "stream",
     "text": [
      "24\n"
     ]
    }
   ],
   "source": [
    "#W2A12\n",
    "n = int(input(\"Nhập độ dài cạnh n của Rubik: \"))\n",
    "stickers = 6 * n * n\n",
    "print(stickers)"
   ]
  },
  {
   "cell_type": "code",
   "execution_count": 41,
   "id": "71ee2220-d1fc-42ba-91fd-0e052119b4b2",
   "metadata": {},
   "outputs": [
    {
     "name": "stdin",
     "output_type": "stream",
     "text": [
      " 6\n",
      " 2\n"
     ]
    },
    {
     "name": "stdout",
     "output_type": "stream",
     "text": [
      "2\n"
     ]
    }
   ],
   "source": [
    "#W2A13\n",
    "a = int(input())\n",
    "b = int(input())\n",
    "c = (a*b)%10\n",
    "print(c)"
   ]
  },
  {
   "cell_type": "code",
   "execution_count": 44,
   "id": "265466f1-eb95-4c47-8572-7bf2daa8fccb",
   "metadata": {},
   "outputs": [
    {
     "name": "stdin",
     "output_type": "stream",
     "text": [
      " 2 5\n"
     ]
    },
    {
     "name": "stdout",
     "output_type": "stream",
     "text": [
      "a= 5.0\n",
      "b= 2.0\n"
     ]
    }
   ],
   "source": [
    "#W2A14\n",
    "a, b = map(float, input().split())\n",
    "a, b = b, a\n",
    "print(\"a=\", a)\n",
    "print(\"b=\", b)\n"
   ]
  },
  {
   "cell_type": "code",
   "execution_count": 1,
   "id": "96ac0334-d459-414b-9245-eae89ec01ec9",
   "metadata": {},
   "outputs": [],
   "source": [
    "#W2A15\n"
   ]
  },
  {
   "cell_type": "code",
   "execution_count": 2,
   "id": "f74a5b8b-afa7-4f44-91c5-7f6ec6d051f5",
   "metadata": {},
   "outputs": [
    {
     "name": "stdout",
     "output_type": "stream",
     "text": [
      "Spring\n",
      "Summer\n",
      "Autumn\n",
      "Winter\n"
     ]
    }
   ],
   "source": [
    "#W2A16\n",
    "print(\"Spring\\nSummer\\nAutumn\\nWinter\")"
   ]
  },
  {
   "cell_type": "code",
   "execution_count": 3,
   "id": "7e6b7a43-9b7e-4d7c-a3e2-90375cf9fee9",
   "metadata": {},
   "outputs": [
    {
     "name": "stdout",
     "output_type": "stream",
     "text": [
      "  *\n",
      " ***\n",
      "*****\n"
     ]
    }
   ],
   "source": [
    "#W2A17\n",
    "print(\"  *\\n ***\\n*****\")"
   ]
  },
  {
   "cell_type": "code",
   "execution_count": 5,
   "id": "11ad946b-4472-4166-9dc3-fdc5bde2f607",
   "metadata": {},
   "outputs": [
    {
     "name": "stdout",
     "output_type": "stream",
     "text": [
      "###  ##   ### ###\n",
      " #   # #   #   #\n",
      " #   #  #  #   #\n",
      " #   # #   #   #\n",
      " #   ##    #   #\n"
     ]
    }
   ],
   "source": [
    "#W2A18\n",
    "print(\"###  ##   ### ###\")\n",
    "print(\" #   # #   #   #\")\n",
    "print(\" #   #  #  #   #\")\n",
    "print(\" #   # #   #   #\")\n",
    "print(\" #   ##    #   #\")"
   ]
  },
  {
   "cell_type": "code",
   "execution_count": 6,
   "id": "12d1b6c2-4133-46a8-8c67-dcfe55cff694",
   "metadata": {},
   "outputs": [
    {
     "name": "stdout",
     "output_type": "stream",
     "text": [
      "Monday\n",
      "Tuesday\n",
      "Wednesday\n",
      "Thursday\n",
      "Friday\n",
      "Saturday\n",
      "Sunday\n"
     ]
    }
   ],
   "source": [
    "#W2A19\n",
    "print(\"Monday\\nTuesday\\nWednesday\\nThursday\\nFriday\\nSaturday\\nSunday\")"
   ]
  },
  {
   "cell_type": "code",
   "execution_count": 7,
   "id": "adf2b4a3-c5f2-4920-b627-2f256877c145",
   "metadata": {},
   "outputs": [
    {
     "name": "stdout",
     "output_type": "stream",
     "text": [
      "January\n",
      "Febuarary\n",
      "March\n",
      "April\n",
      "May\n",
      "June\n",
      "July\n",
      "August\n",
      "September\n",
      "October\n",
      "November\n",
      "December\n"
     ]
    }
   ],
   "source": [
    "#W2A20\n",
    "print(\"January\\nFebuarary\\nMarch\\nApril\\nMay\\nJune\\nJuly\\nAugust\\nSeptember\\nOctober\\nNovember\\nDecember\")"
   ]
  },
  {
   "cell_type": "code",
   "execution_count": 10,
   "id": "a8c67f00-afa9-464f-a31b-a739e65bb13d",
   "metadata": {},
   "outputs": [
    {
     "name": "stdout",
     "output_type": "stream",
     "text": [
      "Hello, world\n",
      "Hello, world\n",
      "Hello, world\n",
      "Hello, world\n",
      "Hello, world\n",
      "Hello, world\n",
      "Hello, world\n",
      "Hello, world\n",
      "Hello, world\n",
      "Hello, world\n",
      "\n"
     ]
    }
   ],
   "source": [
    "#W2A21\n",
    "print(\"Hello, world\\n\"*10)"
   ]
  }
 ],
 "metadata": {
  "kernelspec": {
   "display_name": "Python 3 (ipykernel)",
   "language": "python",
   "name": "python3"
  },
  "language_info": {
   "codemirror_mode": {
    "name": "ipython",
    "version": 3
   },
   "file_extension": ".py",
   "mimetype": "text/x-python",
   "name": "python",
   "nbconvert_exporter": "python",
   "pygments_lexer": "ipython3",
   "version": "3.10.11"
  }
 },
 "nbformat": 4,
 "nbformat_minor": 5
}
