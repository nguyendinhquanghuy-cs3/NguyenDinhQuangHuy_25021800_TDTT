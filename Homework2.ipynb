{
 "cells": [
  {
   "cell_type": "code",
   "execution_count": 2,
   "id": "575eaf26-1cbf-4ca8-9e0b-46568d791dd5",
   "metadata": {},
   "outputs": [
    {
     "name": "stdin",
     "output_type": "stream",
     "text": [
      "Nhập chiều dài hình chữ nhật: 2\n",
      "Nhập chiều rộng hình chữ nhật: 4\n"
     ]
    },
    {
     "name": "stdout",
     "output_type": "stream",
     "text": [
      "Hình chữ nhật có diện tích là 8, chu vi là 12\n"
     ]
    }
   ],
   "source": [
    "#Bài 1\n",
    "dai = int(input(\"Nhập chiều dài hình chữ nhật:\"))\n",
    "rong = int(input(\"Nhập chiều rộng hình chữ nhật:\"))\n",
    "dien_tich = dai*rong\n",
    "chu_vi = 2*(dai + rong)\n",
    "print(f\"Hình chữ nhật có diện tích là {dien_tich}, chu vi là {chu_vi}\")"
   ]
  },
  {
   "cell_type": "code",
   "execution_count": 5,
   "id": "af812d77-902a-467d-ad12-d9bf8d15eff0",
   "metadata": {},
   "outputs": [
    {
     "name": "stdin",
     "output_type": "stream",
     "text": [
      "Nhập bán kính hình tròn: 4\n"
     ]
    },
    {
     "name": "stdout",
     "output_type": "stream",
     "text": [
      "Hình tròn có diện tích là 50.24 và chu vi là 25.12\n"
     ]
    }
   ],
   "source": [
    "#Bài 2\n",
    "r = int(input(\"Nhập bán kính hình tròn:\"))\n",
    "dien_tich = 3.14*r**2\n",
    "chu_vi = 2*3.14*r\n",
    "print(f\"Hình tròn có diện tích là {dien_tich} và chu vi là {chu_vi}\")"
   ]
  },
  {
   "cell_type": "code",
   "execution_count": 9,
   "id": "2b6e816d-3b9f-49cb-a0aa-0e0c6c68fec8",
   "metadata": {},
   "outputs": [
    {
     "name": "stdin",
     "output_type": "stream",
     "text": [
      "Nhập 3 số cách nhau bởi một dấu cách 4 4 5\n"
     ]
    },
    {
     "name": "stdout",
     "output_type": "stream",
     "text": [
      "Đây là tam giác cân\n",
      "Tam giác này có diện tích là 7.81 và chu vi là 13.00\n"
     ]
    }
   ],
   "source": [
    "#Bài 3\n",
    "a, b, c = map(float, input(\"Nhập 3 số cách nhau bởi một dấu cách\").split())\n",
    "if not (a + b > c and a + c > b and b + c > a):\n",
    "    print(\"Không là ba cạnh của một tam giác\")\n",
    "else:\n",
    "    if a**2 + b**2 == c**2 or a**2 + c**2 == b**2 or c**2 + b**2 == a**2:\n",
    "        if a == b or a == c or b == c:\n",
    "            print(\"Đây là tam giác vuông cân\")\n",
    "        else:\n",
    "            print(\"Đây là tam giác vuông\")\n",
    "    elif a == b or b == c or a ==c:\n",
    "        if a == b ==c:\n",
    "            print(\"Đây là tam giác đều\")\n",
    "        else:\n",
    "            print(\"Đây là tam giác cân\")\n",
    "    else:\n",
    "        print(\"Đây là tam giác thường\")\n",
    "p = (a + b + c)/2\n",
    "dien_tich = (p * (p - a) * (p - b) * (p - c))**0.5\n",
    "chu_vi = a + b + c\n",
    "print(f\"Tam giác này có diện tích là {dien_tich:.2f} và chu vi là {chu_vi:.2f}\")"
   ]
  },
  {
   "cell_type": "code",
   "execution_count": 7,
   "id": "fb9d1a42-8d96-4edb-bfa1-e86eef74e208",
   "metadata": {},
   "outputs": [
    {
     "name": "stdout",
     "output_type": "stream",
     "text": [
      "Phương trình bậc nhất có dạng ax + b = 0\n"
     ]
    },
    {
     "name": "stdin",
     "output_type": "stream",
     "text": [
      "Nhập hệ số tự do a 2\n",
      "Nhập hệ số tự do b 1\n"
     ]
    },
    {
     "name": "stdout",
     "output_type": "stream",
     "text": [
      "Nghiệm của phương trình 2x + 1 = 0 là -0.5\n"
     ]
    }
   ],
   "source": [
    "#Bài 4\n",
    "print(\"Phương trình bậc nhất có dạng ax + b = 0\")\n",
    "a = float(input(\"Nhập hệ số tự do a\"))\n",
    "b = float(input(\"Nhập hệ số tự do b\"))\n",
    "x = -b/a\n",
    "print(f\"Nghiệm của phương trình {a:.0f}x + {b:.0f} = 0 là {x}\")"
   ]
  },
  {
   "cell_type": "code",
   "execution_count": 9,
   "id": "9700951f-b0b7-4009-b2ae-81e821118983",
   "metadata": {},
   "outputs": [
    {
     "name": "stdout",
     "output_type": "stream",
     "text": [
      "Phương trình bậc 2 có dạng ax^2 + bx + c = 0 (Lưu ý a khác 0)\n"
     ]
    },
    {
     "name": "stdin",
     "output_type": "stream",
     "text": [
      "Nhập hệ số a 1\n",
      "Nhập hệ số b -2\n",
      "Nhập hệ số c 1\n"
     ]
    },
    {
     "name": "stdout",
     "output_type": "stream",
     "text": [
      "Phương trình 1x^2 + -2x + 1 = 0 có nghiệm kép x = 1.0\n"
     ]
    }
   ],
   "source": [
    "#Bài 5\n",
    "print(\"Phương trình bậc 2 có dạng ax^2 + bx + c = 0 (Lưu ý a khác 0)\")\n",
    "a = float(input(\"Nhập hệ số a\"))\n",
    "b = float(input(\"Nhập hệ số b\"))\n",
    "c = float(input(\"Nhập hệ số c\"))\n",
    "delta = b**2 - 4*a*c\n",
    "if delta < 0:\n",
    "    print(f\"Phương trình {a:.0f}x^2 + {b:.0f}x + {c:.0f} = 0 vô nghiệm\")\n",
    "elif delta == 0:\n",
    "    x = -b/(2*a)\n",
    "    print(f\"Phương trình {a:.0f}x^2 + {b:.0f}x + {c:.0f} = 0 có nghiệm kép x = {x}\")\n",
    "else:\n",
    "    x1 = (-b - delta**0.5)/(2*a)\n",
    "    x2 = (-b + delta**0.5)/(2*a)\n",
    "    print(f\"Phương trình {a:.0f}x^2 + {b:.0f}x + {c:.0f} = 0 có hai nghiệm phân biệt x1 = {x1} và x2 = {x2}\")"
   ]
  },
  {
   "cell_type": "code",
   "execution_count": 10,
   "id": "0f4d9b38-bcc1-4602-a83d-6095c1b0312c",
   "metadata": {},
   "outputs": [
    {
     "name": "stdin",
     "output_type": "stream",
     "text": [
      "Nhập 4 số cách nhau bởi một dấu cách 2 3 4 5\n"
     ]
    },
    {
     "name": "stdout",
     "output_type": "stream",
     "text": [
      "Giá trị lớn nhất trong 4 số a, b, c, d là: 5\n"
     ]
    }
   ],
   "source": [
    "#Bài 6\n",
    "a, b, c, d = map(int, input(\"Nhập 4 số cách nhau bởi một dấu cách\").split())\n",
    "list = [a, b, c, d]\n",
    "print(f\"Giá trị lớn nhất trong 4 số a, b, c, d là: {max(list)}\")"
   ]
  },
  {
   "cell_type": "code",
   "execution_count": 11,
   "id": "98edb624-97ad-46ea-a7aa-d0f904dce258",
   "metadata": {},
   "outputs": [
    {
     "name": "stdin",
     "output_type": "stream",
     "text": [
      "Nhập 4 số cách nhau bởi một dấu cách 3 5 7 9\n"
     ]
    },
    {
     "name": "stdout",
     "output_type": "stream",
     "text": [
      "Giá trị nhỏ nhất trong 4 số a, b, c, d là: 3\n"
     ]
    }
   ],
   "source": [
    "#Bài 7\n",
    "a, b, c, d = map(int, input(\"Nhập 4 số cách nhau bởi một dấu cách\").split())\n",
    "list = [a, b, c, d]\n",
    "print(f\"Giá trị nhỏ nhất trong 4 số a, b, c, d là: {min(list)}\")"
   ]
  },
  {
   "cell_type": "code",
   "execution_count": 6,
   "id": "8e64f77f-3e25-499c-ba1c-0cdee53fa780",
   "metadata": {},
   "outputs": [
    {
     "name": "stdout",
     "output_type": "stream",
     "text": [
      "Hệ phương trình tuyến tính có dạng:\n",
      "   ax + by = m\n",
      "   cx + dy = n\n"
     ]
    },
    {
     "name": "stdin",
     "output_type": "stream",
     "text": [
      "Nhập vào lần lượt các số a, b, m, c, d, n 2 3 6 5 1 4\n"
     ]
    },
    {
     "name": "stdout",
     "output_type": "stream",
     "text": [
      "Hệ có nghiệm duy nhất (0.46;1.69)\n"
     ]
    }
   ],
   "source": [
    "#Bài 8\n",
    "print(\"Hệ phương trình tuyến tính có dạng:\\n   ax + by = m\\n   cx + dy = n\")\n",
    "a, b, m, c, d, n = map(float, input(\"Nhập vào lần lượt các số a, b, m, c, d, n\").split())\n",
    "D = a*d - b*c\n",
    "Dx = m*d - n*b\n",
    "Dy = a*n - c*m\n",
    "if D == 0:\n",
    "    if Dx == 0 and Dy == 0:\n",
    "        print(\"Hệ có vô số nghiệm\")\n",
    "    else:\n",
    "        print(\"Hệ vô nghiệm\")\n",
    "else:\n",
    "    x = Dx/D\n",
    "    y = Dy/D\n",
    "    print(f\"Hệ có nghiệm duy nhất ({x:.2f};{y:.2f})\")"
   ]
  },
  {
   "cell_type": "code",
   "execution_count": 9,
   "id": "04618bc6-e672-4ace-8960-d6533eef18a2",
   "metadata": {},
   "outputs": [
    {
     "name": "stdin",
     "output_type": "stream",
     "text": [
      "Nhập thời gian hoàn thành công việc (giây): 6300\n"
     ]
    },
    {
     "name": "stdout",
     "output_type": "stream",
     "text": [
      "Thời gian hoàn thành công việc là 6300 giây; 105.00 phút; 1.75 giờ\n"
     ]
    }
   ],
   "source": [
    "#Bài 9\n",
    "giay = int(input(\"Nhập thời gian hoàn thành công việc (giây):\"))\n",
    "phut = giay/60\n",
    "gio = giay/3600\n",
    "print(f\"Thời gian hoàn thành công việc là {giay} giây; {phut:.2f} phút; {gio:.2f} giờ\")"
   ]
  },
  {
   "cell_type": "code",
   "execution_count": 11,
   "id": "9b529971-e753-44db-924a-c46431194cd1",
   "metadata": {},
   "outputs": [
    {
     "name": "stdin",
     "output_type": "stream",
     "text": [
      "Nhập tọa độ tâm đường tròn I(a,b): 1 2\n",
      "Nhập bán kính đường tròn 3\n",
      "Nhập tọa độ điểm A(x, y): 1 4\n"
     ]
    },
    {
     "name": "stdout",
     "output_type": "stream",
     "text": [
      "Điểm A nằm trong đường tròn\n"
     ]
    }
   ],
   "source": [
    "#Bài 10\n",
    "a, b = map(float, input(\"Nhập tọa độ tâm đường tròn I(a,b):\").split())\n",
    "r = float(input(\"Nhập bán kính đường tròn\"))\n",
    "x, y = map(float, input(\"Nhập tọa độ điểm A(x, y):\").split())\n",
    "IA = ((a-x)**2 + (b - y)**2)**0.5\n",
    "if IA > r:\n",
    "    print(\"Điểm A nằm ngoài đường tròn\")\n",
    "elif IA < r:\n",
    "    print(\"Điểm A nằm trong đường tròn\")\n",
    "else:\n",
    "    print(\"Điểm A thuộc đường tròn tâm I\")"
   ]
  },
  {
   "cell_type": "code",
   "execution_count": 14,
   "id": "3a7714ef-2797-4a46-bc60-b19920ec22ac",
   "metadata": {},
   "outputs": [
    {
     "name": "stdout",
     "output_type": "stream",
     "text": [
      "Tính giá trị biểu thức x mũ y\n"
     ]
    },
    {
     "name": "stdin",
     "output_type": "stream",
     "text": [
      "Nhập giá trị cho x và y 2 3\n"
     ]
    },
    {
     "name": "stdout",
     "output_type": "stream",
     "text": [
      "2^3 = 8.0\n"
     ]
    }
   ],
   "source": [
    "#Bài 11\n",
    "print(\"Tính giá trị biểu thức x mũ y\")\n",
    "x, y = map(float, input(\"Nhập giá trị cho x và y\").split())\n",
    "ans = x**y\n",
    "print(f\"{x:.0f}^{y:.0f} = {ans}\")"
   ]
  }
 ],
 "metadata": {
  "kernelspec": {
   "display_name": "Python 3 (ipykernel)",
   "language": "python",
   "name": "python3"
  },
  "language_info": {
   "codemirror_mode": {
    "name": "ipython",
    "version": 3
   },
   "file_extension": ".py",
   "mimetype": "text/x-python",
   "name": "python",
   "nbconvert_exporter": "python",
   "pygments_lexer": "ipython3",
   "version": "3.10.11"
  }
 },
 "nbformat": 4,
 "nbformat_minor": 5
}
