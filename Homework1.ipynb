{
 "cells": [
  {
   "cell_type": "code",
   "execution_count": 4,
   "id": "720bf15c-4dbf-49a7-909b-068c476512ef",
   "metadata": {},
   "outputs": [
    {
     "name": "stdin",
     "output_type": "stream",
     "text": [
      "Nhập vào một số: 2\n"
     ]
    },
    {
     "name": "stdout",
     "output_type": "stream",
     "text": [
      "4\n"
     ]
    }
   ],
   "source": [
    "#Bài 1\n",
    "n = int(input(\"Nhập vào một số:\"))\n",
    "a = n*2\n",
    "print(a)"
   ]
  },
  {
   "cell_type": "code",
   "execution_count": 5,
   "id": "b67140a8-ee71-4fe3-a490-e3aac78f5e51",
   "metadata": {},
   "outputs": [
    {
     "name": "stdin",
     "output_type": "stream",
     "text": [
      "Nhập chiều rộng: 2\n",
      "Nhập chiều dài: 4\n"
     ]
    },
    {
     "name": "stdout",
     "output_type": "stream",
     "text": [
      "Diện tích trồng cây là: 4.86\n"
     ]
    }
   ],
   "source": [
    "#Bài 2\n",
    "a = int(input(\"Nhập chiều rộng:\"))\n",
    "b = int(input(\"Nhập chiều dài:\"))\n",
    "dat = a*b-3.14*((a/2)**2)\n",
    "print(f\"Diện tích trồng cây là:{dat: .2f}\")"
   ]
  },
  {
   "cell_type": "code",
   "execution_count": 10,
   "id": "59d68337-d6ee-4da1-99c3-7d4623f3af1a",
   "metadata": {},
   "outputs": [
    {
     "name": "stdin",
     "output_type": "stream",
     "text": [
      "Nhập vào một kí tự: a\n"
     ]
    },
    {
     "name": "stdout",
     "output_type": "stream",
     "text": [
      "Chữ hoa tương ứng: A\n"
     ]
    }
   ],
   "source": [
    "#Bài 3\n",
    "c = input(\"Nhập vào một kí tự:\")\n",
    "if c.isupper():\n",
    "    print(\"Chữ thường tương ứng:\", c.lower())\n",
    "elif c.islower():\n",
    "    print(\"Chữ hoa tương ứng:\", c.upper()) \n",
    "else: \n",
    "    print(\"Kí tự không phài là chữ\")"
   ]
  },
  {
   "cell_type": "code",
   "execution_count": 11,
   "id": "6e0cc3fe-3073-488e-8e51-6223d45d52d4",
   "metadata": {},
   "outputs": [
    {
     "name": "stdin",
     "output_type": "stream",
     "text": [
      "Nhập vào một kí tự: a\n"
     ]
    },
    {
     "name": "stdout",
     "output_type": "stream",
     "text": [
      "{c} là kí tự alphabet\n"
     ]
    }
   ],
   "source": [
    "#Bài 4\n",
    "c = input(\"Nhập vào một kí tự:\")\n",
    "if c.isalpha():\n",
    "    print(\"{c} là kí tự alphabet\")\n",
    "else:\n",
    "    print(\"{c} không phải là kí tự alphabet\")"
   ]
  },
  {
   "cell_type": "code",
   "execution_count": 20,
   "id": "1e177a95-3364-4e89-b6e3-bf7d3e889fba",
   "metadata": {},
   "outputs": [
    {
     "name": "stdin",
     "output_type": "stream",
     "text": [
      "Nhập vào một chữ cái hoa: D\n"
     ]
    },
    {
     "name": "stdout",
     "output_type": "stream",
     "text": [
      "Chữ cái thường liền trước: c\n"
     ]
    }
   ],
   "source": [
    "#Bài 5\n",
    "c = input(\"Nhập vào một chữ cái hoa:\")\n",
    "if len(c) == 1 and c.isupper():\n",
    "    if c == \"A\":\n",
    "        print(\"Trường hợp đặc biệt A không có chữ cái thường liền trước\")\n",
    "    else:\n",
    "        a = chr(ord(c.lower())-1)\n",
    "        print(\"Chữ cái thường liền trước:\", a)\n",
    "else:\n",
    "    print(\"Yêu cầu nhập một chữ cái in hoa\")"
   ]
  },
  {
   "cell_type": "code",
   "execution_count": 28,
   "id": "29600b23-7778-4c4e-95dd-1494adefa1d0",
   "metadata": {},
   "outputs": [
    {
     "name": "stdin",
     "output_type": "stream",
     "text": [
      "Nhập 3 số tương ứng độ dài cạnh của một tam giác 3 4 5.5\n"
     ]
    },
    {
     "name": "stdout",
     "output_type": "stream",
     "text": [
      "Diện tích tam giác là: 5.9\n"
     ]
    }
   ],
   "source": [
    "#Bài 6\n",
    "a, b, c = map(float,input(\"Nhập 3 số tương ứng độ dài cạnh của một tam giác\").split())\n",
    "if a + b > c and a + c > b and b + c >a:\n",
    "    p = (a + b + c)/2\n",
    "    dien_tich = (p*(p -a)*(p-b)*(p-c))**0.5\n",
    "    print(f\"Diện tích tam giác là:{dien_tich: .1f}\")\n",
    "else:\n",
    "    print(\"Không phải là 3 cạnh của tam giác\")"
   ]
  },
  {
   "cell_type": "code",
   "execution_count": 32,
   "id": "daa5a458-d3b7-4ede-addd-98b0a71c6484",
   "metadata": {},
   "outputs": [
    {
     "name": "stdin",
     "output_type": "stream",
     "text": [
      "Nhập một chuỗi gồm ít nhất 20 kí tự thường: abcdefghijklmnopqrstuvwx\n"
     ]
    },
    {
     "name": "stdout",
     "output_type": "stream",
     "text": [
      "Chữ cái thứ 5: e\n",
      "Chữ cái thứ 9: i\n"
     ]
    }
   ],
   "source": [
    "#Bài 7\n",
    "chuoi = input(\"Nhập một chuỗi gồm ít nhất 20 kí tự thường:\")\n",
    "if len(chuoi) >=20 and chuoi.islower:\n",
    "    print(f\"Chữ cái thứ 5: {chuoi[4]}\")\n",
    "    print(f\"Chữ cái thứ 9: {chuoi[8]}\")\n",
    "else:\n",
    "    print(\"Chuỗi quá ngắn\")\n"
   ]
  },
  {
   "cell_type": "code",
   "execution_count": 13,
   "id": "5174dca5-57f4-4dbc-951f-41db5d52d577",
   "metadata": {},
   "outputs": [
    {
     "name": "stdin",
     "output_type": "stream",
     "text": [
      "Tên chủ hộ:  Nguyen Xuan Hai\n",
      "Chỉ số điện kế tháng trước:  2000\n",
      "Chỉ số điện kế tháng này:  2586\n"
     ]
    },
    {
     "name": "stdout",
     "output_type": "stream",
     "text": [
      "Tên chủ hộ: Nguyen Xuan Hai\n",
      "Tiền phải trả là: 1855505.0\n"
     ]
    }
   ],
   "source": [
    "#Bài 8\n",
    "ten = input(\"Tên chủ hộ: \")\n",
    "thang_truoc = int(input(\"Chỉ số điện kế tháng trước: \"))\n",
    "thang_nay = int(input(\"Chỉ số điện kế tháng này: \"))\n",
    "so_dien = thang_nay - thang_truoc\n",
    "if so_dien < 0:\n",
    "    print(\"Lỗi: Chỉ số điện tháng này không thể nhỏ hơn tháng trước!\")\n",
    "else:\n",
    "    if 0 <= so_dien <= 50:\n",
    "        tien_truoc_thue = so_dien * 1984\n",
    "    elif 51 <= so_dien <= 100:\n",
    "        tien_truoc_thue = 50 * 1984 + (so_dien - 50) * 2050\n",
    "    elif 101 <= so_dien <= 200:\n",
    "        tien_truoc_thue = 50 * 1984 + 50 * 2050 + (so_dien - 100) * 2380\n",
    "    elif 201 <= so_dien <= 300:\n",
    "        tien_truoc_thue = 50 * 1984 + 50 * 2050 + 100 * 2380 + (so_dien - 200) * 2998\n",
    "    elif 301 <= so_dien <= 400:\n",
    "        tien_truoc_thue = 50 * 1984 + 50 * 2050 + 100 * 2380 + 100 * 2998 + (so_dien - 300) * 3350\n",
    "    else:\n",
    "        tien_truoc_thue = 50 * 1984 + 50 * 2050 + 100 * 2380 + 100 * 2998 + 100 * 3350 + (so_dien - 400) * 3460\n",
    "    tien = tien_truoc_thue * 1.08\n",
    "    print(\"Tên chủ hộ:\", ten)\n",
    "    print(\"Tiền phải trả là:\", round(tien, 0))"
   ]
  },
  {
   "cell_type": "code",
   "execution_count": 2,
   "id": "77c00e1f-d941-42f0-82ae-4aa59c7303b6",
   "metadata": {},
   "outputs": [
    {
     "name": "stdin",
     "output_type": "stream",
     "text": [
      "Nhập một số nguyên: 3\n"
     ]
    },
    {
     "name": "stdout",
     "output_type": "stream",
     "text": [
      "3 là số lẻ\n"
     ]
    }
   ],
   "source": [
    "#Một số bài tập khác\n",
    "#1 Kiểm tra số chẵn lẻ\n",
    "n = int(input(\"Nhập một số nguyên:\"))\n",
    "if n % 2 ==0:\n",
    "    print(n, \"là số chẵn\")\n",
    "else:\n",
    "    print(n, \"là số lẻ\")"
   ]
  },
  {
   "cell_type": "code",
   "execution_count": 8,
   "id": "48e63c4b-9aae-4bc0-8abe-6b87b1b68a56",
   "metadata": {},
   "outputs": [
    {
     "name": "stdin",
     "output_type": "stream",
     "text": [
      "Nhập một số nguyên 231\n"
     ]
    },
    {
     "name": "stdout",
     "output_type": "stream",
     "text": [
      "False\n"
     ]
    }
   ],
   "source": [
    "#2 Kiểm tra số có tận cùng 5 không\n",
    "n = int(input(\"Nhập một số nguyên\"))\n",
    "print(n % 5 ==0)"
   ]
  },
  {
   "cell_type": "code",
   "execution_count": 10,
   "id": "3377752e-30eb-4c62-ad3f-2f483fa61bec",
   "metadata": {},
   "outputs": [
    {
     "name": "stdin",
     "output_type": "stream",
     "text": [
      "Nhập một số nguyên 9\n"
     ]
    },
    {
     "name": "stdout",
     "output_type": "stream",
     "text": [
      "False\n"
     ]
    }
   ],
   "source": [
    "#3 Kiểm tra một số nguyên chia hết cho 3 và 5 không\n",
    "n = int(input(\"Nhập một số nguyên\"))\n",
    "print(n % 3 ==0 and n % 5 ==0)"
   ]
  },
  {
   "cell_type": "code",
   "execution_count": 11,
   "id": "241b3213-2298-4f40-97fe-9336e19c0ed1",
   "metadata": {},
   "outputs": [
    {
     "name": "stdin",
     "output_type": "stream",
     "text": [
      "Nhập năm sinh của bạn: 2007\n"
     ]
    },
    {
     "name": "stdout",
     "output_type": "stream",
     "text": [
      "Bạn đã đủ điều kiện bầu cử\n"
     ]
    }
   ],
   "source": [
    "#4 Kiểm tra tuổi đủ điều kiện bầu cử\n",
    "birth = int(input(\"Nhập năm sinh của bạn:\"))\n",
    "age = 2025 - birth\n",
    "if age >= 18:\n",
    "    print(\"Bạn đã đủ điều kiện bầu cử\")\n",
    "else:\n",
    "    print(\"Bạn chưa đủ điều kiện bầu cử\")"
   ]
  },
  {
   "cell_type": "code",
   "execution_count": 16,
   "id": "906feda1-5bfc-4c08-bfc2-a8f860509b6e",
   "metadata": {},
   "outputs": [
    {
     "name": "stdin",
     "output_type": "stream",
     "text": [
      "Nhập vào một số: 2\n",
      "Nhập vào một số: 2\n"
     ]
    },
    {
     "name": "stdout",
     "output_type": "stream",
     "text": [
      "Hai số bằng nhau\n"
     ]
    }
   ],
   "source": [
    "#5 So sánh hai số\n",
    "a = int(input(\"Nhập vào một số:\"))\n",
    "b = int(input(\"Nhập vào một số:\"))\n",
    "if a > b:\n",
    "    print(\"Số lớn hơn là:\", a)\n",
    "elif a < b:\n",
    "    print(\"Số lớn hơn là:\", b)\n",
    "else:\n",
    "    print(\"Hai số bằng nhau\")"
   ]
  },
  {
   "cell_type": "code",
   "execution_count": 19,
   "id": "2bebd886-f0d3-4058-9455-7ee3d809cab1",
   "metadata": {},
   "outputs": [
    {
     "name": "stdin",
     "output_type": "stream",
     "text": [
      "Nhập vào một kí tự 3\n"
     ]
    },
    {
     "name": "stdout",
     "output_type": "stream",
     "text": [
      "Kí tự bạn vừa nhập là một số\n"
     ]
    }
   ],
   "source": [
    "#6 Kiểm tra kí tự nhập vào là chữ hay số\n",
    "a = input(\"Nhập vào một kí tự\")\n",
    "if a.isalpha():\n",
    "    print(\"Kí tự bạn vừa nhập là một chữ cái\")\n",
    "elif a.isdigit():\n",
    "    print(\"Kí tự bạn vừa nhập là một số\")\n",
    "else:\n",
    "    print(\"Không phải chữ cũng không phải số\")"
   ]
  },
  {
   "cell_type": "code",
   "execution_count": 2,
   "id": "2af8cdb8-2f56-4db0-ac03-6eb5575eac64",
   "metadata": {},
   "outputs": [
    {
     "name": "stdin",
     "output_type": "stream",
     "text": [
      "Nhập điểm của bạn:  10\n"
     ]
    },
    {
     "name": "stdout",
     "output_type": "stream",
     "text": [
      "Học lực: Giỏi\n"
     ]
    }
   ],
   "source": [
    "#7 Tính điểm học lực\n",
    "diem = float(input(\"Nhập điểm của bạn: \"))\n",
    "if diem > 10 or diem < 0:\n",
    "    print(\"Điểm không hợp lệ\")\n",
    "else:\n",
    "    if diem >= 8:\n",
    "        loai = \"Giỏi\"\n",
    "    elif diem >= 6.5:\n",
    "        loai = \"Khá\"\n",
    "    elif diem >= 5:\n",
    "        loai = \"Trung bình\"\n",
    "    else:\n",
    "        loai = \"Yếu\"\n",
    "    print(\"Học lực:\", loai)"
   ]
  },
  {
   "cell_type": "code",
   "execution_count": 6,
   "id": "22277fd8-3c35-40a6-a48c-f2be03824002",
   "metadata": {},
   "outputs": [
    {
     "name": "stdin",
     "output_type": "stream",
     "text": [
      "Nhập năm: 2016\n"
     ]
    },
    {
     "name": "stdout",
     "output_type": "stream",
     "text": [
      "2016 là năm nhuận.\n"
     ]
    }
   ],
   "source": [
    "#8 Kiểm tra năm nhuận\n",
    "year = int(input(\"Nhập năm:\"))\n",
    "if year % 400 == 0 or year % 4 == 0 and year % 100 != 0:\n",
    "    print(year, \"là năm nhuận\")\n",
    "else:\n",
    "    print(year, \"không phải là năm nhuận\")"
   ]
  },
  {
   "cell_type": "code",
   "execution_count": 8,
   "id": "c043ed7c-94fc-4c18-ac23-9df3de34b27d",
   "metadata": {},
   "outputs": [
    {
     "name": "stdin",
     "output_type": "stream",
     "text": [
      "Nhập một số nguyên từ 0 đến 9 11\n"
     ]
    },
    {
     "name": "stdout",
     "output_type": "stream",
     "text": [
      "Vui lòng nhập một số nguyên từ 0 đến 9\n"
     ]
    }
   ],
   "source": [
    "#9 Chuyển đổi số thành chữ số\n",
    "num = int(input(\"Nhập một số nguyên từ 0 đến 9\"))\n",
    "match num:\n",
    "    case 0:\n",
    "        print(\"Không\")\n",
    "    case 1:\n",
    "        print(\"Một\")\n",
    "    case 2:\n",
    "        print(\"Hai\")\n",
    "    case 3:\n",
    "        print(\"Ba\")\n",
    "    case 4:\n",
    "        print(\"Bốn\")\n",
    "    case 5:\n",
    "        print(\"Năm\")\n",
    "    case 6:\n",
    "        print(\"Sáu\")\n",
    "    case 7:\n",
    "        print(\"Bảy\")\n",
    "    case 8:\n",
    "        print(\"Tám\")\n",
    "    case 9:\n",
    "        print(\"Chín\")\n",
    "    case _:\n",
    "        print(\"Vui lòng nhập một số nguyên từ 0 đến 9\")"
   ]
  },
  {
   "cell_type": "code",
   "execution_count": 10,
   "id": "81d7ecc8-5ded-4bd9-9627-4bf056057315",
   "metadata": {},
   "outputs": [
    {
     "name": "stdin",
     "output_type": "stream",
     "text": [
      "Nhập điểm thi: 5\n"
     ]
    },
    {
     "name": "stdout",
     "output_type": "stream",
     "text": [
      "Qua môn\n"
     ]
    }
   ],
   "source": [
    "#10 Kiểm tra điểm thi\n",
    "diem = int(input(\"Nhập điểm thi:\"))\n",
    "if diem >= 4:\n",
    "    print(\"Qua môn\")\n",
    "else:\n",
    "    print(\"Học lại\")"
   ]
  },
  {
   "cell_type": "code",
   "execution_count": 12,
   "id": "58e1ba65-dbb5-4bc8-92f3-9843d69465c3",
   "metadata": {},
   "outputs": [
    {
     "name": "stdin",
     "output_type": "stream",
     "text": [
      "Nhập năm sinh 2011\n"
     ]
    },
    {
     "name": "stdout",
     "output_type": "stream",
     "text": [
      "Bạn chưa đủ 18 tuổi\n"
     ]
    }
   ],
   "source": [
    "#11 KIểm tra năm sinh và tính tuổi\n",
    "birth = int(input(\"Nhập năm sinh\"))\n",
    "age = 2025 - birth\n",
    "if age >= 18:\n",
    "    print(\"Bạn đã đủ 18 tuổi\")\n",
    "else:\n",
    "    print(\"Bạn chưa đủ 18 tuổi\")"
   ]
  }
 ],
 "metadata": {
  "kernelspec": {
   "display_name": "Python 3 (ipykernel)",
   "language": "python",
   "name": "python3"
  },
  "language_info": {
   "codemirror_mode": {
    "name": "ipython",
    "version": 3
   },
   "file_extension": ".py",
   "mimetype": "text/x-python",
   "name": "python",
   "nbconvert_exporter": "python",
   "pygments_lexer": "ipython3",
   "version": "3.10.11"
  }
 },
 "nbformat": 4,
 "nbformat_minor": 5
}
