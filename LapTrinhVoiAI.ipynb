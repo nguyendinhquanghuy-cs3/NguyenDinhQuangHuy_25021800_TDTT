{
 "cells": [
  {
   "cell_type": "code",
   "execution_count": 1,
   "id": "70b4edb2-be0e-4451-bbfd-afac19e38d2a",
   "metadata": {},
   "outputs": [
    {
     "name": "stdout",
     "output_type": "stream",
     "text": [
      "2\n"
     ]
    }
   ],
   "source": [
    "#W1A1\n",
    "a=7 #Gán giá trị 7 cho biến a\n",
    "b=5 #Gán giá trị 5 cho biến b\n",
    "c=a-b #Lấy giá trị của a trừ cho b, rồi gán giá trị cho biến c\n",
    "print(c) #In ra biến c"
   ]
  },
  {
   "cell_type": "code",
   "execution_count": 2,
   "id": "7c167646-bf51-48ac-95d5-86b29277d3d0",
   "metadata": {},
   "outputs": [
    {
     "name": "stdout",
     "output_type": "stream",
     "text": [
      "Thành phố Hà Nội -Năm 2025\n"
     ]
    }
   ],
   "source": [
    "#W1A2\n",
    "city = \"Hà Nội\" #Gán chuỗi \"Hà Nội\" cho biến city\n",
    "year = 2025 #Gán giá trị 2025 cho biến year\n",
    "print(\"Thành phố\",city,\"-Năm\", year) #In ra các giá trị sắp xếp thành một câu"
   ]
  },
  {
   "cell_type": "code",
   "execution_count": 3,
   "id": "d0eeb219-ff4b-44c0-8945-81d68a440e06",
   "metadata": {},
   "outputs": [
    {
     "name": "stdout",
     "output_type": "stream",
     "text": [
      "10\n"
     ]
    }
   ],
   "source": [
    "#W1A3\n",
    "n=4 #Gán giát rị 4 cho biến n\n",
    "t=0 #Gán giá trị 0 cho biến t\n",
    "for i in range(1, n+1): #Cho i chạy từ 1 đến n\n",
    " t+=i #Cộng dồn giá trị của biến i vào t\n",
    "print(t) #In ra giá trị của biến t"
   ]
  },
  {
   "cell_type": "code",
   "execution_count": 4,
   "id": "2e97939e-17da-49e5-a9d2-2ed4c93e5081",
   "metadata": {},
   "outputs": [
    {
     "name": "stdout",
     "output_type": "stream",
     "text": [
      "1 là số lẻ\n",
      "2 là số chẵn\n",
      "3 là số lẻ\n",
      "4 là số chẵn\n"
     ]
    }
   ],
   "source": [
    "#W1A4\n",
    "numbers = [1,2,3,4] #Tạo danh sách các số từ 1 đến 4\n",
    "for x in numbers: #Kiểm tra từng giá trị của x trong numbers\n",
    "  if x%2==0: #Kiểm tra xem x có chia hết cho 2 hay không\n",
    "    print(x,\"là số chẵn\") #Nếu có, in x là số chẵn\n",
    "  else:\n",
    "    print(x, \"là số lẻ\") #Nếu không, in x là số lẻ"
   ]
  },
  {
   "cell_type": "code",
   "execution_count": 5,
   "id": "ec7627ff-96f7-4478-8277-b7fc5f1acf3b",
   "metadata": {},
   "outputs": [
    {
     "name": "stdout",
     "output_type": "stream",
     "text": [
      "Số phần tử trong danh sách là 4\n"
     ]
    }
   ],
   "source": [
    "#W1A5\n",
    "animals = [\"cat\", \"dog\", \"cat\", \"bird\"] #Tạo danh sách bao gồm 4 phần tử\n",
    "count = 0 #Gán giá trị 0 cho biến count\n",
    "for a in animals: #Lặp qua từng phần tử a trong danh sách animals\n",
    "  count += 1 #Mỗi lần lặp tăng giá trị của biến count thêm 1\n",
    "print(\"Số phần tử trong danh sách là\", count) #In ra tổng số phần tử khi vòng lặp kết thúc"
   ]
  },
  {
   "cell_type": "code",
   "execution_count": 6,
   "id": "da7a3b5f-070a-457f-aa76-dd1cd93cd4d2",
   "metadata": {},
   "outputs": [
    {
     "name": "stdin",
     "output_type": "stream",
     "text": [
      "Nhập số: 3\n"
     ]
    },
    {
     "name": "stdout",
     "output_type": "stream",
     "text": [
      "Số lẻ\n"
     ]
    }
   ],
   "source": [
    "#W1A7\n",
    "num = int(input(\"Nhập số:\")) #Chuyển đầu vào sang số nguyên\n",
    "if num % 2 == 0: #Kiểm tra xem đầu vào có chia hết cho 2 không\n",
    "  print(\"Số chẵn\") #Nếu đúng in số chẵn\n",
    "else:\n",
    "  print(\"Số lẻ\") #Nếu sai in số lẻ"
   ]
  },
  {
   "cell_type": "code",
   "execution_count": 9,
   "id": "48049f44-492d-4abe-8421-28137131616f",
   "metadata": {},
   "outputs": [
    {
     "name": "stdout",
     "output_type": "stream",
     "text": [
      "AI đang học lần 1\n",
      "AI đang học lần 2\n",
      "AI đang học lần 3\n",
      "Huấn luyện xong!\n"
     ]
    }
   ],
   "source": [
    "#W1A8\n",
    "for i in range(3): #Lặp biến i với các giá trị 0,1,2\n",
    " print(\"AI đang học lần\", i + 1) #In ra số lần học của AI, cộng với 1 để chạy từ 1-3 thay vì 0-2\n",
    "print(\"Huấn luyện xong!\") # In ra thông báo huấn luyện xong"
   ]
  },
  {
   "cell_type": "code",
   "execution_count": 11,
   "id": "78c94556-580a-4d6f-9766-59dd388957fa",
   "metadata": {},
   "outputs": [
    {
     "name": "stdout",
     "output_type": "stream",
     "text": [
      "Dự đoán con vật cat\n",
      "Dự đoán con vật dog\n",
      "Dự đoán con vật fish\n"
     ]
    }
   ],
   "source": [
    "#W1A9\n",
    "for x in [\"cat\",\"dog\",\"fish\"]: #Lặp qua từng phần tử trong danh sách\n",
    "    print(\"Dự đoán con vật\", x) #In ra các dự đoán với chuỗi của x từng lần lặp"
   ]
  },
  {
   "cell_type": "code",
   "execution_count": 12,
   "id": "e1116624-ee94-4ca4-bd10-37c3d76c09f9",
   "metadata": {
    "collapsed": true,
    "jupyter": {
     "outputs_hidden": true
    }
   },
   "outputs": [
    {
     "name": "stdout",
     "output_type": "stream",
     "text": [
      "===AI prediction system===\n",
      "1)Sentiment analysis\n",
      "2)Weather forecast\n",
      "3)Exit\n",
      "Please choose an option\n"
     ]
    }
   ],
   "source": [
    "#W1A10\n",
    "#Simple menu\n",
    "print(\"===AI prediction system===\")\n",
    "print(\"1)Sentiment analysis\")\n",
    "print(\"2)Weather forecast\")\n",
    "print(\"3)Exit\")\n",
    "print(\"Please choose an option:\")"
   ]
  }
 ],
 "metadata": {
  "kernelspec": {
   "display_name": "Python 3 (ipykernel)",
   "language": "python",
   "name": "python3"
  },
  "language_info": {
   "codemirror_mode": {
    "name": "ipython",
    "version": 3
   },
   "file_extension": ".py",
   "mimetype": "text/x-python",
   "name": "python",
   "nbconvert_exporter": "python",
   "pygments_lexer": "ipython3",
   "version": "3.10.11"
  }
 },
 "nbformat": 4,
 "nbformat_minor": 5
}
